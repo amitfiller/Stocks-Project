{
 "cells": [
  {
   "cell_type": "code",
   "execution_count": null,
   "id": "932f1518",
   "metadata": {},
   "outputs": [],
   "source": [
    "import pandas as pd\n",
    "import matplotlib.pyplot as plt\n",
    "import seaborn as sns\n",
    "import numpy as np\n",
    "from statsmodels.tsa.arima.model import ARIMA\n",
    "from pandas.plotting import register_matplotlib_converters\n",
    "register_matplotlib_converters()"
   ]
  },
  {
   "cell_type": "markdown",
   "id": "fe49e4f3",
   "metadata": {},
   "source": [
    "# AAPL Close Price with MA20 and MA200"
   ]
  },
  {
   "cell_type": "code",
   "execution_count": null,
   "id": "fc0406f0",
   "metadata": {},
   "outputs": [],
   "source": [
    "final_df = pd.read_csv('stocks_data_full.csv')\n",
    "final_df['Date'] = pd.to_datetime(final_df['Date'])\n",
    "\n",
    "aapl_df = final_df[final_df['Ticker'] == 'AAPL']\n",
    "\n",
    "plt.figure(figsize=(10,4))\n",
    "plt.plot(aapl_df['Date'], aapl_df['Close'], label='Close Price')\n",
    "plt.plot(aapl_df['Date'], aapl_df['MA20'], label='MA20')\n",
    "plt.plot(aapl_df['Date'], aapl_df['MA200'], label='MA200')\n",
    "plt.title('AAPL Close Price with MA20 and MA200')\n",
    "plt.xlabel('Date')\n",
    "plt.ylabel('Price (USD)')\n",
    "plt.legend()\n",
    "plt.grid(True)\n",
    "plt.show()"
   ]
  },
  {
   "cell_type": "markdown",
   "id": "9b054bbc",
   "metadata": {},
   "source": [
    "This plot shows the daily closing price of AAPL stock along with its 20-day and 200-day moving averages.  \n",
    "It helps visualize both short-term and long-term trends in the stock's price movement."
   ]
  },
  {
   "cell_type": "markdown",
   "id": "94febefa",
   "metadata": {},
   "source": [
    "# AAPL RSI (Relative Strength Index) Over Time"
   ]
  },
  {
   "cell_type": "code",
   "execution_count": null,
   "id": "6a43d24c",
   "metadata": {},
   "outputs": [],
   "source": [
    "plt.figure(figsize=(10,4))\n",
    "sns.lineplot(data=aapl_df[28:], x='Date', y='RSI_14')\n",
    "plt.title('AAPL RSI (14 Days) Over Time')\n",
    "plt.axhline(70, color='red', linestyle='--')  #Overbought line\n",
    "plt.axhline(30, color='green', linestyle='--')  #Oversold line\n",
    "plt.xlabel('Date')\n",
    "plt.ylabel('RSI Value')\n",
    "plt.grid(True)\n",
    "plt.show()"
   ]
  },
  {
   "cell_type": "markdown",
   "id": "d1392059",
   "metadata": {},
   "source": [
    "This chart displays the 14-day RSI values for AAPL.  \n",
    "It indicates momentum and highlights periods where the stock may be overbought (RSI > 70) or oversold (RSI < 30).\n"
   ]
  },
  {
   "cell_type": "markdown",
   "id": "e437db40",
   "metadata": {},
   "source": [
    "# AAPL ATR (Average True Range) Over Time"
   ]
  },
  {
   "cell_type": "code",
   "execution_count": null,
   "id": "287fa594",
   "metadata": {},
   "outputs": [],
   "source": [
    "plt.figure(figsize=(10,4))\n",
    "sns.lineplot(data=aapl_df, x='Date', y='ATR_14')\n",
    "plt.title('AAPL ATR (14 Days) Over Time')\n",
    "plt.xlabel('Date')\n",
    "plt.ylabel('ATR Value')\n",
    "plt.grid(True)\n",
    "plt.show()"
   ]
  },
  {
   "cell_type": "markdown",
   "id": "bdec6afb",
   "metadata": {},
   "source": [
    "This plot shows the 14-day Average True Range (ATR) for AAPL.  \n",
    "It measures the stock's daily volatility and helps assess the level of price fluctuations over time."
   ]
  },
  {
   "cell_type": "markdown",
   "id": "b1a44ee9",
   "metadata": {},
   "source": [
    "# Distribution of P/E Ratios Across Companies"
   ]
  },
  {
   "cell_type": "code",
   "execution_count": null,
   "id": "87b82a79",
   "metadata": {},
   "outputs": [],
   "source": [
    "plt.figure(figsize=(10,4))\n",
    "sns.histplot(final_df.drop_duplicates('Ticker')['P/E'], bins=30, kde=True)\n",
    "plt.title('Distribution of P/E Ratios Across Companies')\n",
    "plt.xlabel('P/E Ratio')\n",
    "plt.ylabel('Count')\n",
    "plt.grid(True)\n",
    "plt.show()"
   ]
  },
  {
   "cell_type": "markdown",
   "id": "06740b21",
   "metadata": {},
   "source": [
    "This histogram illustrates the distribution of Price-to-Earnings (P/E) ratios across different companies.  \n",
    "It helps identify how companies are valued relative to their earnings.\n"
   ]
  },
  {
   "cell_type": "markdown",
   "id": "91b192fe",
   "metadata": {},
   "source": [
    "# Distribution of Market Capitalization Across Companies"
   ]
  },
  {
   "cell_type": "code",
   "execution_count": null,
   "id": "c2cd9d3d",
   "metadata": {},
   "outputs": [],
   "source": [
    "plt.figure(figsize=(10,4))\n",
    "sns.histplot(final_df.drop_duplicates('Ticker')['Market_Cap']/1e9, bins=30, kde=True)\n",
    "plt.title('Distribution of Market Capitalization (in Billions USD)')\n",
    "plt.xlabel('Market Cap (Billions USD)')\n",
    "plt.ylabel('Count')\n",
    "plt.grid(True)\n",
    "plt.show()"
   ]
  },
  {
   "cell_type": "markdown",
   "id": "4ed90f35",
   "metadata": {},
   "source": [
    "This plot shows the spread of companies by their total market value (in billions of USD).  \n",
    "It highlights the presence of small, mid-sized, and large-cap stocks in the dataset."
   ]
  },
  {
   "cell_type": "markdown",
   "id": "4c6a446f",
   "metadata": {},
   "source": [
    "# Daily Return Distribution for Selected Stocks (Boxplot)"
   ]
  },
  {
   "cell_type": "code",
   "execution_count": null,
   "id": "14f5ed5f",
   "metadata": {},
   "outputs": [],
   "source": [
    "final_df['Daily_Return'] = final_df.groupby('Ticker')['Close'].pct_change()\n",
    "\n",
    "sample_tickers = ['AAPL', 'MSFT', 'GOOG', 'AMZN', 'META']\n",
    "sample_df = final_df[final_df['Ticker'].isin(sample_tickers)]\n",
    "\n",
    "plt.figure(figsize=(10,4))\n",
    "sns.boxplot(data=sample_df, x='Ticker', y='Daily_Return')\n",
    "plt.title('Daily Return Distribution for Selected Stocks')\n",
    "plt.xlabel('Stock')\n",
    "plt.ylabel('Daily Return')\n",
    "plt.grid(True)\n",
    "plt.show()\n"
   ]
  },
  {
   "cell_type": "markdown",
   "id": "7c8258ac",
   "metadata": {},
   "source": [
    "This boxplot compares the daily returns of selected major companies.  \n",
    "It helps visualize volatility, risk, and consistency in stock performance."
   ]
  },
  {
   "cell_type": "markdown",
   "id": "a765c484",
   "metadata": {},
   "source": [
    "# AAPL Volume Traded Over Time"
   ]
  },
  {
   "cell_type": "code",
   "execution_count": null,
   "id": "92247b93",
   "metadata": {},
   "outputs": [],
   "source": [
    "plt.figure(figsize=(10,4))\n",
    "plt.plot(aapl_df['Date'], aapl_df['Volume'])\n",
    "plt.title('AAPL Volume Traded Over Time')\n",
    "plt.xlabel('Date')\n",
    "plt.ylabel('Volume')\n",
    "plt.grid(True)\n",
    "plt.show()"
   ]
  },
  {
   "cell_type": "markdown",
   "id": "77d3d37c",
   "metadata": {},
   "source": [
    "This plot tracks the daily trading volume of AAPL stock over time.  \n",
    "It reflects investor activity and liquidity in the market.\n"
   ]
  },
  {
   "cell_type": "markdown",
   "id": "92e928bd",
   "metadata": {},
   "source": [
    "## Correlation Heatmap of Technical Indicators (AAPL)"
   ]
  },
  {
   "cell_type": "code",
   "execution_count": null,
   "id": "3aa8eaf7",
   "metadata": {},
   "outputs": [],
   "source": [
    "aapl_df = final_df[final_df['Ticker'] == 'AAPL']\n",
    "features = ['Close', 'MA20', 'MA200', 'RSI_14', 'ATR_14']\n",
    "correlation_matrix = aapl_df[features].corr()\n",
    "\n",
    "plt.figure(figsize=(8,6))\n",
    "sns.heatmap(correlation_matrix, annot=True, cmap='coolwarm', fmt='.2f')\n",
    "plt.title('Correlation Matrix of Technical Indicators (AAPL)')\n",
    "plt.show()\n"
   ]
  },
  {
   "cell_type": "markdown",
   "id": "8f8abf19",
   "metadata": {},
   "source": [
    "This heatmap shows the correlation between key technical indicators for AAPL.  \n",
    "It helps identify relationships between indicators such as Moving Averages (MA20/MA200), RSI, ATR, and the stock's close price.  \n",
    "For example, we expect MA20 and MA200 to be highly correlated with the closing price, while ATR and RSI capture different aspects like volatility and momentum."
   ]
  },
  {
   "cell_type": "markdown",
   "id": "00836d53",
   "metadata": {},
   "source": [
    "## Top 10 Companies by Market Capitalization"
   ]
  },
  {
   "cell_type": "code",
   "execution_count": null,
   "id": "3905d184",
   "metadata": {},
   "outputs": [],
   "source": [
    "sorted_df = final_df.sort_values(by='Date', ascending=False)\n",
    "latest_market_cap = sorted_df.drop_duplicates(subset='Ticker')[['Ticker', 'Market_Cap']]\n",
    "top10 = latest_market_cap.sort_values(by='Market_Cap', ascending=False).head(10)\n",
    "\n",
    "plt.figure(figsize=(10, 4))\n",
    "sns.barplot(data=top10, x='Market_Cap', y='Ticker', palette='viridis')\n",
    "plt.title('Top 10 Companies by Market Capitalization')\n",
    "plt.xlabel('Market Cap (USD)')\n",
    "plt.ylabel('Company')\n",
    "plt.show()\n"
   ]
  },
  {
   "cell_type": "markdown",
   "id": "18cf650d",
   "metadata": {},
   "source": [
    "This bar chart displays the ten largest companies in our dataset by market capitalization.  \n",
    "It gives a sense of the relative size of each company in the stock market and shows how the dataset includes both large-cap and mid-cap stocks."
   ]
  },
  {
   "cell_type": "code",
   "execution_count": null,
   "id": "56c79b82",
   "metadata": {},
   "outputs": [],
   "source": [
    "# Filter a specific stock to focus on (e.g., AAPL)\n",
    "aapl_df = final_df[final_df['Ticker'] == 'AAPL'].dropna(subset=['RSI_14', 'Volume'])\n",
    "\n",
    "# Plot boxplots\n",
    "plt.figure(figsize=(14, 5))\n",
    "\n",
    "plt.subplot(1, 2, 1)\n",
    "sns.boxplot(y=aapl_df['RSI_14'])\n",
    "plt.title('Boxplot of RSI_14 (AAPL)')\n",
    "plt.ylabel('RSI Value')\n",
    "\n",
    "plt.subplot(1, 2, 2)\n",
    "sns.boxplot(y=aapl_df['Volume'])\n",
    "plt.title('Boxplot of Volume (AAPL)')\n",
    "plt.ylabel('Volume')\n",
    "\n",
    "plt.tight_layout()\n",
    "plt.show()\n"
   ]
  },
  {
   "cell_type": "markdown",
   "id": "1c3dbcce",
   "metadata": {},
   "source": [
    "## Stage 2"
   ]
  },
  {
   "cell_type": "code",
   "execution_count": null,
   "id": "ca052342",
   "metadata": {},
   "outputs": [],
   "source": [
    "#import seaborn as sns\n",
    "# import matplotlib.pyplot as plt\n",
    "\n",
    "# # Filter numeric features only\n",
    "# numeric_df = final_df.select_dtypes(include='number').dropna()\n",
    "\n",
    "# numeric_df = final_df.groupby('Ticker').mean(numeric_only=True).sort_values(by=\"Ticker\")\n",
    "\n",
    "# # Scatter plots of all feature pairs\n",
    "# sns.pairplot(numeric_df)\n",
    "# plt.suptitle('Pairwise Scatter Plots of Numeric Features', y=1.02)\n",
    "# plt.show()\n"
   ]
  },
  {
   "cell_type": "code",
   "execution_count": null,
   "id": "371f76fc",
   "metadata": {},
   "outputs": [],
   "source": [
    "# import pandas as pd\n",
    "# from sklearn.preprocessing import StandardScaler\n",
    "# from sklearn.decomposition import PCA\n",
    "# from sklearn.cluster import KMeans, DBSCAN, AgglomerativeClustering\n",
    "# from sklearn.metrics import silhouette_score\n",
    "# import matplotlib.pyplot as plt\n",
    "# import seaborn as sns\n",
    "\n",
    "# selected_columns = ['Ticker', 'RSI_14', 'ATR_14', 'P/E', 'MA20', 'MA200', 'Volume', 'Market_Cap']\n",
    "# df_selected = final_df[selected_columns]\n",
    "\n",
    "# # Step 2: Group by Ticker and aggregate\n",
    "# final_df = df_selected.groupby('Ticker').agg({\n",
    "#     'RSI_14': 'mean',\n",
    "#     'ATR_14': 'mean',\n",
    "#     'P/E': 'mean',\n",
    "#     'MA20': 'mean',\n",
    "#     'MA200': 'mean',\n",
    "#     'Volume': 'mean',\n",
    "#     'Market_Cap': 'mean'\n",
    "# }).dropna()  # Drop tickers with missing P/E\n",
    "\n",
    "# # ------------------ Preprocessing ------------------\n",
    "# # Assuming final_df already exists\n",
    "# X = final_df.copy()\n",
    "# X = final_df.reset_index(drop=True)\n",
    "\n",
    "# # Scale the data\n",
    "# scaler = StandardScaler()\n",
    "# X_scaled = scaler.fit_transform(X)\n",
    "\n",
    "# inertias = []\n",
    "# K_range = range(1, 11)\n",
    "\n",
    "# for k in K_range:\n",
    "#     kmeans = KMeans(n_clusters=k, random_state=42)\n",
    "#     kmeans.fit(X_scaled)\n",
    "#     inertias.append(kmeans.inertia_)\n",
    "\n",
    "# # Plot the elbow curve\n",
    "# plt.figure(figsize=(8, 5))\n",
    "# plt.plot(K_range, inertias, marker='o')\n",
    "# plt.xlabel('Number of clusters (k)')\n",
    "# plt.ylabel('Inertia (Within-Cluster Sum of Squares)')\n",
    "# plt.title('Elbow Method for Optimal k')\n",
    "# plt.grid(True)\n",
    "# plt.show()\n",
    "\n",
    "# # ------------------ KMeans Clustering ------------------\n",
    "# kmeans = KMeans(n_clusters=4, random_state=42)\n",
    "# kmeans_labels = kmeans.fit_predict(X_scaled)\n",
    "# sil_kmeans = silhouette_score(X_scaled, kmeans_labels)\n",
    "\n",
    "# # ------------------ DBSCAN Clustering ------------------\n",
    "# dbscan = DBSCAN(eps=1.5, min_samples=5)\n",
    "# dbscan_labels = dbscan.fit_predict(X_scaled)\n",
    "# sil_dbscan = silhouette_score(X_scaled, dbscan_labels) if len(set(dbscan_labels)) > 1 else -1\n",
    "\n",
    "# # ------------------ Agglomerative Clustering ------------------\n",
    "# agglo = AgglomerativeClustering(n_clusters=4)\n",
    "# agglo_labels = agglo.fit_predict(X_scaled)\n",
    "# sil_agglo = silhouette_score(X_scaled, agglo_labels)\n",
    "\n",
    "# # ------------------ PCA for 2D Projection ------------------\n",
    "# pca = PCA(n_components=2)\n",
    "# X_pca = pca.fit_transform(X_scaled)\n",
    "\n",
    "# # ------------------ Plot Results ------------------\n",
    "# def plot_clusters(labels, title):\n",
    "#     plt.figure(figsize=(8,6))\n",
    "#     sns.scatterplot(x=X_pca[:,0], y=X_pca[:,1], hue=labels, palette='Set2', s=60)\n",
    "#     plt.title(title)\n",
    "#     plt.xlabel('PCA 1')\n",
    "#     plt.ylabel('PCA 2')\n",
    "#     plt.legend(title='Cluster')\n",
    "#     plt.show()\n",
    "\n",
    "# plot_clusters(kmeans_labels, f'KMeans Clusters (Silhouette={sil_kmeans:.2f})')\n",
    "# plot_clusters(dbscan_labels, f'DBSCAN Clusters (Silhouette={sil_dbscan:.2f})')\n",
    "# plot_clusters(agglo_labels, f'Agglomerative Clusters (Silhouette={sil_agglo:.2f})')\n"
   ]
  },
  {
   "cell_type": "markdown",
   "id": "d9c5b9c4",
   "metadata": {},
   "source": [
    "## Step 3: Time Series Forecasting – Predicting MSFT Close Price\n"
   ]
  },
  {
   "cell_type": "code",
   "execution_count": null,
   "id": "77c0f461",
   "metadata": {},
   "outputs": [],
   "source": [
    "# --- Step 1: Filter MSFT closing prices ---\n",
    "from statsmodels.tsa.stattools import adfuller\n",
    "msft_df = final_df[final_df['Ticker'] == 'MSFT'].copy()\n",
    "\n",
    "msft_close = msft_df[['Close']]\n",
    "\n",
    "result = adfuller(msft_close.Close.dropna())\n",
    "print(f'ADF Statistics : {result[0]}')\n",
    "print(f'P-value: {result[1]}')"
   ]
  },
  {
   "cell_type": "code",
   "execution_count": null,
   "id": "1850543b",
   "metadata": {},
   "outputs": [],
   "source": [
    "from pmdarima.arima.utils import ndiffs\n",
    "\n",
    "ndiffs(msft_close.Close , test = \"adf\")"
   ]
  },
  {
   "cell_type": "markdown",
   "id": "650c954f",
   "metadata": {},
   "source": [
    "#### Model Performance Metrics\n"
   ]
  },
  {
   "cell_type": "code",
   "execution_count": null,
   "id": "912bb507",
   "metadata": {},
   "outputs": [],
   "source": [
    "from sklearn.metrics import mean_absolute_error, mean_squared_error, r2_score\n",
    "\n",
    "mae = mean_absolute_error(y_test, y_pred)\n",
    "rmse = np.sqrt(mean_squared_error(y_test, y_pred))\n",
    "r2 = r2_score(y_test, y_pred)\n",
    "\n",
    "print(f\"MAE: {mae:.3f} | RMSE: {rmse:.3f} | R2: {r2:.3f}\")\n"
   ]
  }
 ],
 "metadata": {
  "kernelspec": {
   "display_name": "Python 3",
   "language": "python",
   "name": "python3"
  },
  "language_info": {
   "codemirror_mode": {
    "name": "ipython",
    "version": 3
   },
   "file_extension": ".py",
   "mimetype": "text/x-python",
   "name": "python",
   "nbconvert_exporter": "python",
   "pygments_lexer": "ipython3",
   "version": "3.10.13"
  }
 },
 "nbformat": 4,
 "nbformat_minor": 5
}
